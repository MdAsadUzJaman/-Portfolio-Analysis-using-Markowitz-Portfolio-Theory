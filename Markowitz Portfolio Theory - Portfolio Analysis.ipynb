{
 "cells": [
  {
   "cell_type": "code",
   "execution_count": 1,
   "metadata": {},
   "outputs": [
    {
     "name": "stderr",
     "output_type": "stream",
     "text": [
      "C:\\Users\\asadu\\anaconda3\\lib\\site-packages\\pandas_datareader\\compat\\__init__.py:7: FutureWarning: pandas.util.testing is deprecated. Use the functions in the public API at pandas.testing instead.\n",
      "  from pandas.util.testing import assert_frame_equal\n"
     ]
    }
   ],
   "source": [
    "# Importing numpy, matplotlib, pandas,pandas_datareader\n",
    "import pandas as pd\n",
    "import numpy as np\n",
    "from pandas_datareader import data as wb\n",
    "import matplotlib.pyplot as plt\n",
    "%matplotlib inline"
   ]
  },
  {
   "cell_type": "markdown",
   "metadata": {},
   "source": [
    "## Markowitz Portfolio Theory (MPT)\n",
    "Modern portfolio theory or Markowitz Portfolio Theory (MPT) is a theory that helps construct portfolios to optimize or maximize expected return based on a given level of market risk for risk averse investors, keeping that in mind that risk is inevitable part of return. Risk and return are positively correlated. However, the theory paves the way to construct an \"efficient frontier\" of optimal portfolios that generate the highest possible expected return for a given level of risk. This concept was introduced by Harry Markowitz in his paper \"Portfolio Selection,\" published in 1952 by the Journal of Finance He was later awarded a Nobel prize for developing the MPT.(Cheng, 2003)\n",
    "\n",
    "In finance world, “FAANG” refers to the stocks of five giant American technology companies: Facebook (FB), Amazon (AMZN), Apple (AAPL), Netflix (NFLX); and Alphabet (GOOG). In addition, the five FAANG stocks are among the largest companies in the world, with a combined market capitalization of over $4.1 trillion as of January 2020.(Fernando, 2017)\n",
    "\n",
    "We will implement Markowitz Portfolio Theory to construct  an efficient frontier of optimal portfolios."
   ]
  },
  {
   "cell_type": "code",
   "execution_count": 45,
   "metadata": {},
   "outputs": [],
   "source": [
    "# Using ticker symbols of FAANG to download and create DataFrame from 2012-05-18\n",
    "assets=['FB','AMZN','AAPL','NFLX','GOOG']\n",
    "pf_data =pd.DataFrame()\n",
    "for t in assets:\n",
    "    pf_data[t]=wb.DataReader(t, data_source=\"yahoo\", start=\"2012-05-18\")[\"Adj Close\"]"
   ]
  },
  {
   "cell_type": "code",
   "execution_count": 46,
   "metadata": {},
   "outputs": [
    {
     "data": {
      "text/html": [
       "<div>\n",
       "<style scoped>\n",
       "    .dataframe tbody tr th:only-of-type {\n",
       "        vertical-align: middle;\n",
       "    }\n",
       "\n",
       "    .dataframe tbody tr th {\n",
       "        vertical-align: top;\n",
       "    }\n",
       "\n",
       "    .dataframe thead th {\n",
       "        text-align: right;\n",
       "    }\n",
       "</style>\n",
       "<table border=\"1\" class=\"dataframe\">\n",
       "  <thead>\n",
       "    <tr style=\"text-align: right;\">\n",
       "      <th></th>\n",
       "      <th>FB</th>\n",
       "      <th>AMZN</th>\n",
       "      <th>AAPL</th>\n",
       "      <th>NFLX</th>\n",
       "      <th>GOOG</th>\n",
       "    </tr>\n",
       "    <tr>\n",
       "      <th>Date</th>\n",
       "      <th></th>\n",
       "      <th></th>\n",
       "      <th></th>\n",
       "      <th></th>\n",
       "      <th></th>\n",
       "    </tr>\n",
       "  </thead>\n",
       "  <tbody>\n",
       "    <tr>\n",
       "      <th>2012-05-18</th>\n",
       "      <td>38.230000</td>\n",
       "      <td>213.850006</td>\n",
       "      <td>65.592659</td>\n",
       "      <td>9.994286</td>\n",
       "      <td>299.078979</td>\n",
       "    </tr>\n",
       "    <tr>\n",
       "      <th>2012-05-21</th>\n",
       "      <td>34.029999</td>\n",
       "      <td>218.110001</td>\n",
       "      <td>69.414101</td>\n",
       "      <td>10.248571</td>\n",
       "      <td>305.908386</td>\n",
       "    </tr>\n",
       "    <tr>\n",
       "      <th>2012-05-22</th>\n",
       "      <td>31.000000</td>\n",
       "      <td>215.330002</td>\n",
       "      <td>68.881065</td>\n",
       "      <td>9.672857</td>\n",
       "      <td>299.278229</td>\n",
       "    </tr>\n",
       "    <tr>\n",
       "      <th>2012-05-23</th>\n",
       "      <td>32.000000</td>\n",
       "      <td>217.279999</td>\n",
       "      <td>70.561768</td>\n",
       "      <td>10.272857</td>\n",
       "      <td>303.592072</td>\n",
       "    </tr>\n",
       "    <tr>\n",
       "      <th>2012-05-24</th>\n",
       "      <td>33.029999</td>\n",
       "      <td>215.240005</td>\n",
       "      <td>69.913734</td>\n",
       "      <td>10.038571</td>\n",
       "      <td>300.702881</td>\n",
       "    </tr>\n",
       "  </tbody>\n",
       "</table>\n",
       "</div>"
      ],
      "text/plain": [
       "                   FB        AMZN       AAPL       NFLX        GOOG\n",
       "Date                                                               \n",
       "2012-05-18  38.230000  213.850006  65.592659   9.994286  299.078979\n",
       "2012-05-21  34.029999  218.110001  69.414101  10.248571  305.908386\n",
       "2012-05-22  31.000000  215.330002  68.881065   9.672857  299.278229\n",
       "2012-05-23  32.000000  217.279999  70.561768  10.272857  303.592072\n",
       "2012-05-24  33.029999  215.240005  69.913734  10.038571  300.702881"
      ]
     },
     "execution_count": 46,
     "metadata": {},
     "output_type": "execute_result"
    }
   ],
   "source": [
    "# Showing top 6 rows of data\n",
    "pf_data.head(6)"
   ]
  },
  {
   "cell_type": "code",
   "execution_count": 35,
   "metadata": {},
   "outputs": [
    {
     "name": "stdout",
     "output_type": "stream",
     "text": [
      "<class 'pandas.core.frame.DataFrame'>\n",
      "DatetimeIndex: 2024 entries, 2012-05-18 to 2020-06-04\n",
      "Data columns (total 5 columns):\n",
      " #   Column  Non-Null Count  Dtype  \n",
      "---  ------  --------------  -----  \n",
      " 0   FB      2024 non-null   float64\n",
      " 1   AMZN    2024 non-null   float64\n",
      " 2   AAPL    2024 non-null   float64\n",
      " 3   NFLX    2024 non-null   float64\n",
      " 4   GOOG    2024 non-null   float64\n",
      "dtypes: float64(5)\n",
      "memory usage: 94.9 KB\n"
     ]
    }
   ],
   "source": [
    "# Locating missing values\n",
    "pf_data.info()"
   ]
  },
  {
   "cell_type": "markdown",
   "metadata": {},
   "source": [
    "The normalized value for each stock after the base date/time is the percent of the base price expressed as a whole number. Here, 100 times actual price (any given date) divided by actual base price (initail date). We indiate initail date with iloc[0]. This indicator shows the percentage move in price relative to some fixed starting point (\"Normalized price\" 2015).\n",
    "\n",
    "To illustrate, if we want to calculate the normalized price of Facebook(\"FB\") for 5th day, we will devide 5th day (2012-05-18) price which is 33.029999 by base price (2012-05-24) of 38.230000 times 100."
   ]
  },
  {
   "cell_type": "code",
   "execution_count": 41,
   "metadata": {
    "scrolled": false
   },
   "outputs": [
    {
     "data": {
      "text/plain": [
       "<matplotlib.axes._subplots.AxesSubplot at 0x28aa24da7c8>"
      ]
     },
     "execution_count": 41,
     "metadata": {},
     "output_type": "execute_result"
    },
    {
     "data": {
      "image/png": "[encoded data removed]",
      "text/plain": [
       "<Figure size 936x360 with 1 Axes>"
      ]
     },
     "metadata": {
      "needs_background": "light"
     },
     "output_type": "display_data"
    }
   ],
   "source": [
    "# Normalizing stock prices\n",
    "normalized_price = pf_data/pf_data.iloc[0]*100\n",
    "normalized_price.plot(figsize=(13,5))"
   ]
  },
  {
   "cell_type": "markdown",
   "metadata": {},
   "source": [
    "### Simple Returns\n",
    "The simple return of a portfolio is the weighted sum of the simple returns of the constituents of the portfolio. If simple returns are used than the portfolio return is the weighted average of assets in that portfolio. So one of the advantages of simple return is that it can be used where portfolios are formed and portfolio returns have to be calculated because of its asset-additive property.\n",
    "\n",
    "$ Return = (Ending Price - Starting Price) / Starting Price$\n",
    "\n",
    "Please note that, we will use simple returns for calculating FAANG portfolio.\n",
    "\n",
    "### Log Returns\n",
    "The log return for a time period is the sum of the log returns of partitions of the time period. For example, the log return for a year is the sum of the log returns of the days within the year. Log returns are time-additive, not asset-additive. The weighted average of log returns of individual stocks is not equal to the portfolio return. In fact, log returns are not a linear function of asset weights.\n",
    "\n",
    "$ Return = log(Ending Price - Starting Price)$\n"
   ]
  },
  {
   "cell_type": "code",
   "execution_count": null,
   "metadata": {},
   "outputs": [],
   "source": [
    "# Calculating log returns just for the record\n",
    "log_returns=np.log(pf_data/pf_data.shift(1))\n",
    "log_returns.tail()"
   ]
  },
  {
   "cell_type": "code",
   "execution_count": 49,
   "metadata": {},
   "outputs": [
    {
     "data": {
      "text/html": [
       "<div>\n",
       "<style scoped>\n",
       "    .dataframe tbody tr th:only-of-type {\n",
       "        vertical-align: middle;\n",
       "    }\n",
       "\n",
       "    .dataframe tbody tr th {\n",
       "        vertical-align: top;\n",
       "    }\n",
       "\n",
       "    .dataframe thead th {\n",
       "        text-align: right;\n",
       "    }\n",
       "</style>\n",
       "<table border=\"1\" class=\"dataframe\">\n",
       "  <thead>\n",
       "    <tr style=\"text-align: right;\">\n",
       "      <th></th>\n",
       "      <th>FB</th>\n",
       "      <th>AMZN</th>\n",
       "      <th>AAPL</th>\n",
       "      <th>NFLX</th>\n",
       "      <th>GOOG</th>\n",
       "    </tr>\n",
       "    <tr>\n",
       "      <th>Date</th>\n",
       "      <th></th>\n",
       "      <th></th>\n",
       "      <th></th>\n",
       "      <th></th>\n",
       "      <th></th>\n",
       "    </tr>\n",
       "  </thead>\n",
       "  <tbody>\n",
       "    <tr>\n",
       "      <th>2012-05-18</th>\n",
       "      <td>NaN</td>\n",
       "      <td>NaN</td>\n",
       "      <td>NaN</td>\n",
       "      <td>NaN</td>\n",
       "      <td>NaN</td>\n",
       "    </tr>\n",
       "    <tr>\n",
       "      <th>2012-05-21</th>\n",
       "      <td>-0.109861</td>\n",
       "      <td>0.019920</td>\n",
       "      <td>0.058260</td>\n",
       "      <td>0.025443</td>\n",
       "      <td>0.022835</td>\n",
       "    </tr>\n",
       "    <tr>\n",
       "      <th>2012-05-22</th>\n",
       "      <td>-0.089039</td>\n",
       "      <td>-0.012746</td>\n",
       "      <td>-0.007679</td>\n",
       "      <td>-0.056175</td>\n",
       "      <td>-0.021674</td>\n",
       "    </tr>\n",
       "    <tr>\n",
       "      <th>2012-05-23</th>\n",
       "      <td>0.032258</td>\n",
       "      <td>0.009056</td>\n",
       "      <td>0.024400</td>\n",
       "      <td>0.062029</td>\n",
       "      <td>0.014414</td>\n",
       "    </tr>\n",
       "    <tr>\n",
       "      <th>2012-05-24</th>\n",
       "      <td>0.032187</td>\n",
       "      <td>-0.009389</td>\n",
       "      <td>-0.009184</td>\n",
       "      <td>-0.022806</td>\n",
       "      <td>-0.009517</td>\n",
       "    </tr>\n",
       "  </tbody>\n",
       "</table>\n",
       "</div>"
      ],
      "text/plain": [
       "                  FB      AMZN      AAPL      NFLX      GOOG\n",
       "Date                                                        \n",
       "2012-05-18       NaN       NaN       NaN       NaN       NaN\n",
       "2012-05-21 -0.109861  0.019920  0.058260  0.025443  0.022835\n",
       "2012-05-22 -0.089039 -0.012746 -0.007679 -0.056175 -0.021674\n",
       "2012-05-23  0.032258  0.009056  0.024400  0.062029  0.014414\n",
       "2012-05-24  0.032187 -0.009389 -0.009184 -0.022806 -0.009517"
      ]
     },
     "execution_count": 49,
     "metadata": {},
     "output_type": "execute_result"
    }
   ],
   "source": [
    "# Calculating simple returns of FAANG portfolio\n",
    "simple_returns = (pf_data / pf_data.shift(1)) - 1\n",
    "simple_returns.head()"
   ]
  },
  {
   "cell_type": "code",
   "execution_count": 50,
   "metadata": {},
   "outputs": [
    {
     "data": {
      "text/plain": [
       "FB      0.287960\n",
       "AMZN    0.346406\n",
       "AAPL    0.235010\n",
       "NFLX    0.572563\n",
       "GOOG    0.223035\n",
       "dtype: float64"
      ]
     },
     "execution_count": 50,
     "metadata": {},
     "output_type": "execute_result"
    }
   ],
   "source": [
    "# Calculating annual simple return from daily simple returns of FAANG portfolio\n",
    "annual_return = simple_returns.mean()*250\n",
    "annual_return"
   ]
  },
  {
   "cell_type": "code",
   "execution_count": 51,
   "metadata": {},
   "outputs": [
    {
     "data": {
      "text/html": [
       "<div>\n",
       "<style scoped>\n",
       "    .dataframe tbody tr th:only-of-type {\n",
       "        vertical-align: middle;\n",
       "    }\n",
       "\n",
       "    .dataframe tbody tr th {\n",
       "        vertical-align: top;\n",
       "    }\n",
       "\n",
       "    .dataframe thead th {\n",
       "        text-align: right;\n",
       "    }\n",
       "</style>\n",
       "<table border=\"1\" class=\"dataframe\">\n",
       "  <thead>\n",
       "    <tr style=\"text-align: right;\">\n",
       "      <th></th>\n",
       "      <th>FB</th>\n",
       "      <th>AMZN</th>\n",
       "      <th>AAPL</th>\n",
       "      <th>NFLX</th>\n",
       "      <th>GOOG</th>\n",
       "    </tr>\n",
       "  </thead>\n",
       "  <tbody>\n",
       "    <tr>\n",
       "      <th>FB</th>\n",
       "      <td>0.137889</td>\n",
       "      <td>0.047544</td>\n",
       "      <td>0.037661</td>\n",
       "      <td>0.047843</td>\n",
       "      <td>0.044646</td>\n",
       "    </tr>\n",
       "    <tr>\n",
       "      <th>AMZN</th>\n",
       "      <td>0.047544</td>\n",
       "      <td>0.089154</td>\n",
       "      <td>0.034664</td>\n",
       "      <td>0.060321</td>\n",
       "      <td>0.044595</td>\n",
       "    </tr>\n",
       "    <tr>\n",
       "      <th>AAPL</th>\n",
       "      <td>0.037661</td>\n",
       "      <td>0.034664</td>\n",
       "      <td>0.076130</td>\n",
       "      <td>0.031918</td>\n",
       "      <td>0.036023</td>\n",
       "    </tr>\n",
       "    <tr>\n",
       "      <th>NFLX</th>\n",
       "      <td>0.047843</td>\n",
       "      <td>0.060321</td>\n",
       "      <td>0.031918</td>\n",
       "      <td>0.229849</td>\n",
       "      <td>0.047044</td>\n",
       "    </tr>\n",
       "    <tr>\n",
       "      <th>GOOG</th>\n",
       "      <td>0.044646</td>\n",
       "      <td>0.044595</td>\n",
       "      <td>0.036023</td>\n",
       "      <td>0.047044</td>\n",
       "      <td>0.062784</td>\n",
       "    </tr>\n",
       "  </tbody>\n",
       "</table>\n",
       "</div>"
      ],
      "text/plain": [
       "            FB      AMZN      AAPL      NFLX      GOOG\n",
       "FB    0.137889  0.047544  0.037661  0.047843  0.044646\n",
       "AMZN  0.047544  0.089154  0.034664  0.060321  0.044595\n",
       "AAPL  0.037661  0.034664  0.076130  0.031918  0.036023\n",
       "NFLX  0.047843  0.060321  0.031918  0.229849  0.047044\n",
       "GOOG  0.044646  0.044595  0.036023  0.047044  0.062784"
      ]
     },
     "execution_count": 51,
     "metadata": {},
     "output_type": "execute_result"
    }
   ],
   "source": [
    "# Calculating annual covariance from daily simple returns of FAANG portfolio\n",
    "simple_returns.cov()*250"
   ]
  },
  {
   "cell_type": "code",
   "execution_count": 52,
   "metadata": {},
   "outputs": [
    {
     "data": {
      "text/html": [
       "<div>\n",
       "<style scoped>\n",
       "    .dataframe tbody tr th:only-of-type {\n",
       "        vertical-align: middle;\n",
       "    }\n",
       "\n",
       "    .dataframe tbody tr th {\n",
       "        vertical-align: top;\n",
       "    }\n",
       "\n",
       "    .dataframe thead th {\n",
       "        text-align: right;\n",
       "    }\n",
       "</style>\n",
       "<table border=\"1\" class=\"dataframe\">\n",
       "  <thead>\n",
       "    <tr style=\"text-align: right;\">\n",
       "      <th></th>\n",
       "      <th>FB</th>\n",
       "      <th>AMZN</th>\n",
       "      <th>AAPL</th>\n",
       "      <th>NFLX</th>\n",
       "      <th>GOOG</th>\n",
       "    </tr>\n",
       "  </thead>\n",
       "  <tbody>\n",
       "    <tr>\n",
       "      <th>FB</th>\n",
       "      <td>1.000000</td>\n",
       "      <td>0.428809</td>\n",
       "      <td>0.367583</td>\n",
       "      <td>0.268738</td>\n",
       "      <td>0.479831</td>\n",
       "    </tr>\n",
       "    <tr>\n",
       "      <th>AMZN</th>\n",
       "      <td>0.428809</td>\n",
       "      <td>1.000000</td>\n",
       "      <td>0.420760</td>\n",
       "      <td>0.421380</td>\n",
       "      <td>0.596056</td>\n",
       "    </tr>\n",
       "    <tr>\n",
       "      <th>AAPL</th>\n",
       "      <td>0.367583</td>\n",
       "      <td>0.420760</td>\n",
       "      <td>1.000000</td>\n",
       "      <td>0.241287</td>\n",
       "      <td>0.521049</td>\n",
       "    </tr>\n",
       "    <tr>\n",
       "      <th>NFLX</th>\n",
       "      <td>0.268738</td>\n",
       "      <td>0.421380</td>\n",
       "      <td>0.241287</td>\n",
       "      <td>1.000000</td>\n",
       "      <td>0.391615</td>\n",
       "    </tr>\n",
       "    <tr>\n",
       "      <th>GOOG</th>\n",
       "      <td>0.479831</td>\n",
       "      <td>0.596056</td>\n",
       "      <td>0.521049</td>\n",
       "      <td>0.391615</td>\n",
       "      <td>1.000000</td>\n",
       "    </tr>\n",
       "  </tbody>\n",
       "</table>\n",
       "</div>"
      ],
      "text/plain": [
       "            FB      AMZN      AAPL      NFLX      GOOG\n",
       "FB    1.000000  0.428809  0.367583  0.268738  0.479831\n",
       "AMZN  0.428809  1.000000  0.420760  0.421380  0.596056\n",
       "AAPL  0.367583  0.420760  1.000000  0.241287  0.521049\n",
       "NFLX  0.268738  0.421380  0.241287  1.000000  0.391615\n",
       "GOOG  0.479831  0.596056  0.521049  0.391615  1.000000"
      ]
     },
     "execution_count": 52,
     "metadata": {},
     "output_type": "execute_result"
    }
   ],
   "source": [
    "# Calculating correlation among stocks in FAANG portfolio\n",
    "simple_returns.corr()"
   ]
  },
  {
   "cell_type": "code",
   "execution_count": 53,
   "metadata": {},
   "outputs": [
    {
     "data": {
      "text/plain": [
       "5"
      ]
     },
     "execution_count": 53,
     "metadata": {},
     "output_type": "execute_result"
    }
   ],
   "source": [
    "num_assets = len(assets)\n",
    "num_assets"
   ]
  },
  {
   "cell_type": "code",
   "execution_count": 62,
   "metadata": {},
   "outputs": [
    {
     "data": {
      "text/plain": [
       "array([0.31425446, 0.08397706, 0.01145954, 0.31157036, 0.27873858])"
      ]
     },
     "execution_count": 62,
     "metadata": {},
     "output_type": "execute_result"
    }
   ],
   "source": [
    "# Generationg random weights as per number of assets in FAANG Portfolio\n",
    "weights = np.random.random(num_assets)\n",
    "weights= weights / np.sum(weights)\n",
    "# or weights /= np.sum(weights)\n",
    "weights"
   ]
  },
  {
   "cell_type": "code",
   "execution_count": 63,
   "metadata": {},
   "outputs": [
    {
     "data": {
      "text/plain": [
       "0.9999999999999998"
      ]
     },
     "execution_count": 63,
     "metadata": {},
     "output_type": "execute_result"
    }
   ],
   "source": [
    "# Adding random weights to check if equal to 1\n",
    "weights[0]+weights[1]+weights[2]+weights[3]+weights[4]"
   ]
  },
  {
   "cell_type": "markdown",
   "metadata": {},
   "source": [
    "### Expected Portfolio Return\n",
    "Expected portfolio return is the weighted average of the expected return of each of its stocks. The basic expected return formula involves multiplying each asset's weight in the portfolio by its expected return, then adding all those figures together.\n",
    "\n",
    "$ Expected  Portfolio  Return = \\sum_{i=1}^{n}w_i*r_i $"
   ]
  },
  {
   "cell_type": "code",
   "execution_count": 70,
   "metadata": {},
   "outputs": [
    {
     "data": {
      "text/plain": [
       "0.362838060634737"
      ]
     },
     "execution_count": 70,
     "metadata": {},
     "output_type": "execute_result"
    }
   ],
   "source": [
    "# Calcualting annual expected returns\n",
    "annual_pfolio_retrun = np.sum(weights*simple_returns.mean())*250\n",
    "annual_pfolio_retrun"
   ]
  },
  {
   "cell_type": "markdown",
   "metadata": {},
   "source": [
    "### Expected Portfolio Variance\n",
    "Portfolio variance is a measurement of risk, of how the aggregate actual returns of a set of securities making up a portfolio fluctuate over time. This portfolio variance statistic is calculated using the standard deviations of each security in the portfolio as well as the correlations of each security pair in the portfolio. Our target is to minimize expeted portfolio variance while maximizing portfolio returns.\n",
    "\n",
    "To calculate the portfolio variance of securities in a portfolio, multiply the squared weight of each security by the corresponding variance of the security and add two multiplied by the weighted average of the securities multiplied by the covariance between the securities (Nickolas, 2015). \n",
    "\n",
    "$ Expected Portfolio Variance = \\sum_{i=1}^{n}(w_i^2)Var(r_i) + 2\\sum_{i=1}^{n}\\sum_{j=1}^{n}(w_i)(w_j)Cov(r_i,r_j) $\n",
    "\n",
    "We will use following notation for matrix calculation, $ (w.V)^2 = w^TV.w$\n",
    "\n",
    "Something like,\n",
    "\n",
    "$ (w.V)^2 = [w_1 \\dots w_n]\n",
    "\\begin{bmatrix} \n",
    "\\sigma_{1}^2 & \\sigma_{1,2} \\dots \\sigma_{1,n}\\\\\n",
    "\\sigma_{2,1} & \\sigma_{2}^2 \\dots \\sigma_{2,n}\\\\\n",
    "\\vdots&\\vdots\\ddots\\\\\n",
    "\\sigma_{n,1} & \\sigma_{n,2} \\dots \\sigma_{n}^2\\\\\n",
    "\\end{bmatrix} \\begin{bmatrix} w_1 \\\\\\vdots\\\\ w_n\\end{bmatrix} $\n",
    "\n"
   ]
  },
  {
   "cell_type": "code",
   "execution_count": 15,
   "metadata": {},
   "outputs": [
    {
     "data": {
      "text/plain": [
       "0.0353751177568021"
      ]
     },
     "execution_count": 15,
     "metadata": {},
     "output_type": "execute_result"
    }
   ],
   "source": [
    "# Calculating annual portfolio variance\n",
    "annual_pfolio_variance = np.dot(weights.T, np.dot(simple_returns.cov()*250,weights))\n",
    "annual_pfolio_variance"
   ]
  },
  {
   "cell_type": "code",
   "execution_count": 73,
   "metadata": {},
   "outputs": [
    {
     "data": {
      "text/plain": [
       "0.2745141868431745"
      ]
     },
     "execution_count": 73,
     "metadata": {},
     "output_type": "execute_result"
    }
   ],
   "source": [
    "# Calculating annual portfolio standard deviation or volatility\n",
    "annual_pfolio_volatility = np.sqrt(np.dot(weights.T, np.dot(simple_returns.cov()*250,weights)))\n",
    "annual_pfolio_volatility"
   ]
  },
  {
   "cell_type": "code",
   "execution_count": 85,
   "metadata": {},
   "outputs": [
    {
     "data": {
      "text/plain": [
       "(array([0.36450329, 0.32204063, 0.34846061, 0.36716367, 0.31272909,\n",
       "        0.33916101, 0.37842885, 0.36823574, 0.34110268, 0.39977616,\n",
       "        0.32377471, 0.31800344, 0.28101995, 0.3550161 , 0.30349347,\n",
       "        0.37676712, 0.26015961, 0.31264025, 0.34674362, 0.36979679,\n",
       "        0.36062454, 0.30232682, 0.31696053, 0.2914786 , 0.3459664 ,\n",
       "        0.30817299, 0.36376609, 0.30523829, 0.40499862, 0.34107907,\n",
       "        0.31663428, 0.41445626, 0.2615574 , 0.34441938, 0.34121965,\n",
       "        0.33495005, 0.38198793, 0.29851407, 0.29832031, 0.29540667,\n",
       "        0.34578446, 0.28590873, 0.34912155, 0.30276843, 0.30107799,\n",
       "        0.3723559 , 0.35865117, 0.41654652, 0.27123368, 0.32733634,\n",
       "        0.34755435, 0.35789073, 0.3144331 , 0.3858658 , 0.28761745,\n",
       "        0.29335734, 0.36720183, 0.37144341, 0.33595401, 0.35130685,\n",
       "        0.3532504 , 0.36566749, 0.38952174, 0.32867977, 0.37381991,\n",
       "        0.29067408, 0.31102682, 0.33612209, 0.30795834, 0.31134003,\n",
       "        0.33886743, 0.35445628, 0.39669825, 0.33561189, 0.25958583,\n",
       "        0.30685926, 0.27839282, 0.32976797, 0.34607141, 0.30706508,\n",
       "        0.36305135, 0.38897447, 0.31835591, 0.36498721, 0.31024233,\n",
       "        0.30354889, 0.39221855, 0.33116536, 0.33819733, 0.34726974,\n",
       "        0.3007885 , 0.37503967, 0.32555274, 0.31349391, 0.29982327,\n",
       "        0.29223908, 0.33822296, 0.32136148, 0.32435413, 0.26956868,\n",
       "        0.28950818, 0.32099746, 0.32200803, 0.39900596, 0.2625925 ,\n",
       "        0.31035791, 0.3542317 , 0.33525878, 0.32389332, 0.27098647,\n",
       "        0.34145689, 0.3498345 , 0.34491296, 0.36483743, 0.27673397,\n",
       "        0.29502479, 0.32662763, 0.38338637, 0.31939458, 0.3715495 ,\n",
       "        0.29232006, 0.3166316 , 0.4344588 , 0.29467006, 0.30802138,\n",
       "        0.34221504, 0.37801202, 0.27234021, 0.32669574, 0.31121275,\n",
       "        0.35058077, 0.3049754 , 0.31260044, 0.29660427, 0.30672559,\n",
       "        0.28782725, 0.43266634, 0.32528977, 0.4017418 , 0.31029721,\n",
       "        0.3464254 , 0.34269225, 0.35199323, 0.35827746, 0.3591143 ,\n",
       "        0.34643844, 0.37714376, 0.33233177, 0.35155883, 0.28743938,\n",
       "        0.36074548, 0.32922928, 0.3425163 , 0.36706284, 0.33560276,\n",
       "        0.36658394, 0.28652798, 0.27656947, 0.33435701, 0.37520862,\n",
       "        0.30182873, 0.31003961, 0.31630592, 0.37227553, 0.4052459 ,\n",
       "        0.32307492, 0.35588058, 0.30711003, 0.32349112, 0.39777777,\n",
       "        0.37990382, 0.30653764, 0.31371802, 0.25396649, 0.27910926,\n",
       "        0.2968126 , 0.32358663, 0.34133632, 0.29365196, 0.38402211,\n",
       "        0.33822385, 0.33593336, 0.32117534, 0.3526757 , 0.28524001,\n",
       "        0.38475332, 0.30575483, 0.33751357, 0.35518302, 0.2932662 ,\n",
       "        0.40604198, 0.25896626, 0.31298616, 0.27377516, 0.29611908,\n",
       "        0.33117973, 0.33575254, 0.32274354, 0.24977374, 0.35710724,\n",
       "        0.33840023, 0.30661831, 0.3613912 , 0.34571554, 0.36403157,\n",
       "        0.35899476, 0.37163972, 0.3273859 , 0.29814745, 0.3375682 ,\n",
       "        0.3691211 , 0.28235668, 0.34349173, 0.30122816, 0.33000999,\n",
       "        0.31809821, 0.33400135, 0.27809773, 0.3185466 , 0.31753311,\n",
       "        0.26660445, 0.35372703, 0.35790451, 0.35518096, 0.32654573,\n",
       "        0.39722395, 0.35805186, 0.33463302, 0.35554405, 0.41662755,\n",
       "        0.29493531, 0.34806213, 0.29093078, 0.31695763, 0.34332795,\n",
       "        0.35461921, 0.3800551 , 0.34725837, 0.3336166 , 0.34595283,\n",
       "        0.33618484, 0.28868701, 0.36724708, 0.33339728, 0.37012394,\n",
       "        0.31402933, 0.37864632, 0.36988102, 0.38391792, 0.28325774,\n",
       "        0.32862246, 0.30486412, 0.26039178, 0.37301289, 0.29761976,\n",
       "        0.35173763, 0.33436189, 0.27861401, 0.27604386, 0.31104978,\n",
       "        0.34658518, 0.33719683, 0.3288141 , 0.36165302, 0.33568693,\n",
       "        0.35007468, 0.31955018, 0.34452732, 0.41866849, 0.33124677,\n",
       "        0.35683896, 0.29587698, 0.29384596, 0.29394149, 0.31683945,\n",
       "        0.33511486, 0.26683518, 0.31532144, 0.33341137, 0.35653136,\n",
       "        0.28450936, 0.33698255, 0.35155872, 0.33330473, 0.31067486,\n",
       "        0.30832924, 0.30621088, 0.32848279, 0.28031301, 0.275071  ,\n",
       "        0.28396365, 0.34026473, 0.34208563, 0.37803444, 0.3575398 ,\n",
       "        0.34690951, 0.30339398, 0.34081799, 0.37658016, 0.34183292,\n",
       "        0.33317541, 0.30361441, 0.32194657, 0.33200805, 0.37199104,\n",
       "        0.33174748, 0.32064415, 0.32153865, 0.34864761, 0.361345  ,\n",
       "        0.36645257, 0.39772365, 0.26271376, 0.28159969, 0.31441881,\n",
       "        0.32467433, 0.37595147, 0.33678256, 0.32307707, 0.29859241,\n",
       "        0.27004384, 0.33832247, 0.37912681, 0.33127345, 0.34849611,\n",
       "        0.29155173, 0.24856153, 0.34937239, 0.32717913, 0.34026497,\n",
       "        0.36589591, 0.26779736, 0.35545573, 0.40605702, 0.34944633,\n",
       "        0.35548265, 0.35085585, 0.3416472 , 0.35835271, 0.3444308 ,\n",
       "        0.33834585, 0.2920123 , 0.4107028 , 0.31200722, 0.29846028,\n",
       "        0.34852907, 0.29150038, 0.34284438, 0.33799931, 0.27661353,\n",
       "        0.31917639, 0.28207993, 0.34835643, 0.35053128, 0.34008977,\n",
       "        0.36825427, 0.29566259, 0.27468662, 0.37052498, 0.32032768,\n",
       "        0.27631582, 0.3288392 , 0.32655138, 0.32179704, 0.3651184 ,\n",
       "        0.31825786, 0.32110801, 0.34523731, 0.39304068, 0.25793658,\n",
       "        0.34785412, 0.34438376, 0.30912044, 0.30679823, 0.28120773,\n",
       "        0.37710336, 0.31459924, 0.32597923, 0.28658548, 0.28820065,\n",
       "        0.33173023, 0.37103432, 0.33359441, 0.39516818, 0.35913712,\n",
       "        0.26343989, 0.34157382, 0.31493694, 0.29479405, 0.33236475,\n",
       "        0.31811916, 0.45164441, 0.35875276, 0.2902602 , 0.3957954 ,\n",
       "        0.33954329, 0.31778576, 0.33188171, 0.35456186, 0.293873  ,\n",
       "        0.30881714, 0.31186247, 0.38313227, 0.3366394 , 0.35145672,\n",
       "        0.2791321 , 0.35546326, 0.2884879 , 0.35941447, 0.37661848,\n",
       "        0.37866035, 0.35682174, 0.30266396, 0.37957507, 0.31137314,\n",
       "        0.31527682, 0.40103789, 0.40168689, 0.28970551, 0.26748193,\n",
       "        0.35614129, 0.26088891, 0.36240295, 0.30467401, 0.35155557,\n",
       "        0.36837494, 0.35458503, 0.33087174, 0.3267658 , 0.35231378,\n",
       "        0.304024  , 0.38195443, 0.3075711 , 0.282179  , 0.35778789,\n",
       "        0.36330697, 0.29728843, 0.37387992, 0.29640734, 0.32645036,\n",
       "        0.32840044, 0.39990855, 0.33541123, 0.36157701, 0.31455993,\n",
       "        0.29614615, 0.31932626, 0.315865  , 0.29473364, 0.3870403 ,\n",
       "        0.27105691, 0.37093331, 0.39918946, 0.32314658, 0.35278651,\n",
       "        0.34279589, 0.38073443, 0.33599353, 0.33037117, 0.31753058,\n",
       "        0.36794767, 0.36404497, 0.31369175, 0.35190236, 0.35288832,\n",
       "        0.3377054 , 0.38439326, 0.27617604, 0.26446648, 0.41641289,\n",
       "        0.32018239, 0.35482199, 0.34227622, 0.31796205, 0.32253914,\n",
       "        0.37761822, 0.30598362, 0.26911279, 0.39436151, 0.27457375,\n",
       "        0.34181748, 0.297957  , 0.36470187, 0.38264979, 0.33736635,\n",
       "        0.31801102, 0.29683489, 0.29933928, 0.31813802, 0.37386905,\n",
       "        0.35793265, 0.30996325, 0.2744962 , 0.32441051, 0.35840072,\n",
       "        0.31192662, 0.35887312, 0.36449234, 0.31766915, 0.37603651,\n",
       "        0.35775444, 0.3344511 , 0.39567095, 0.33425431, 0.31411721,\n",
       "        0.26340508, 0.27890258, 0.31637598, 0.35240736, 0.2859875 ,\n",
       "        0.34097519, 0.35728691, 0.34810242, 0.34003261, 0.3583903 ,\n",
       "        0.35762663, 0.32589931, 0.30358144, 0.28136764, 0.33629939,\n",
       "        0.33836413, 0.41754172, 0.27595088, 0.27967518, 0.29481246,\n",
       "        0.31300874, 0.29801546, 0.30848185, 0.26732493, 0.37593194,\n",
       "        0.28218597, 0.27779364, 0.27268438, 0.35011489, 0.37482689,\n",
       "        0.29269522, 0.32269907, 0.35550285, 0.30332219, 0.29870746,\n",
       "        0.38821813, 0.33056771, 0.39039337, 0.31829941, 0.32554087,\n",
       "        0.34034676, 0.34388893, 0.34829959, 0.38543833, 0.28161659,\n",
       "        0.28511861, 0.36107286, 0.28945664, 0.36577122, 0.29973284,\n",
       "        0.26711201, 0.30879492, 0.30898823, 0.33955064, 0.31264286,\n",
       "        0.36553259, 0.37021843, 0.37994221, 0.35849115, 0.30346363,\n",
       "        0.34722088, 0.34786733, 0.28809525, 0.36160819, 0.37969331,\n",
       "        0.25189492, 0.29039661, 0.26248834, 0.3302635 , 0.26963146,\n",
       "        0.29011465, 0.37387075, 0.36957284, 0.29423825, 0.33946418,\n",
       "        0.40841021, 0.34888636, 0.34943316, 0.33478637, 0.343642  ,\n",
       "        0.35777779, 0.35263036, 0.3134238 , 0.29310503, 0.33432201,\n",
       "        0.35220122, 0.40165276, 0.28630786, 0.32541481, 0.368232  ,\n",
       "        0.37778857, 0.28883959, 0.35931993, 0.34955431, 0.33061651,\n",
       "        0.28366624, 0.32184537, 0.34985419, 0.38858876, 0.27507184,\n",
       "        0.3081131 , 0.28804105, 0.30839764, 0.34362873, 0.28339413,\n",
       "        0.41013563, 0.35273636, 0.292889  , 0.3141442 , 0.32697473,\n",
       "        0.37404442, 0.33949821, 0.27590732, 0.39005131, 0.3921299 ,\n",
       "        0.33761472, 0.38636687, 0.29841938, 0.36566398, 0.34847528,\n",
       "        0.34204949, 0.34398997, 0.30260525, 0.39128664, 0.31555718,\n",
       "        0.35397706, 0.3613163 , 0.34275936, 0.30767112, 0.307568  ,\n",
       "        0.29748426, 0.34739926, 0.36401894, 0.42609025, 0.36803596,\n",
       "        0.43348171, 0.32286296, 0.31722808, 0.32591665, 0.36310633,\n",
       "        0.34932806, 0.29664185, 0.34434467, 0.32790038, 0.33749117,\n",
       "        0.35109539, 0.3234468 , 0.31460479, 0.30090295, 0.37487589,\n",
       "        0.34872338, 0.334842  , 0.33785169, 0.31142076, 0.34616037,\n",
       "        0.30508629, 0.32278705, 0.31553987, 0.35736852, 0.34144745,\n",
       "        0.38199403, 0.42381468, 0.34803597, 0.33914447, 0.41118117,\n",
       "        0.33066049, 0.26486704, 0.28719529, 0.3016828 , 0.33719215,\n",
       "        0.31851773, 0.34706019, 0.3752797 , 0.35417627, 0.31418639,\n",
       "        0.3540524 , 0.36772953, 0.34433184, 0.34909121, 0.31607134,\n",
       "        0.2984475 , 0.32403232, 0.3110027 , 0.33363511, 0.35403464,\n",
       "        0.325671  , 0.31061942, 0.34963107, 0.32974129, 0.31200214,\n",
       "        0.32815956, 0.41828694, 0.3151876 , 0.30369401, 0.28234684,\n",
       "        0.34056428, 0.32130363, 0.36484576, 0.41051346, 0.31999471,\n",
       "        0.34075032, 0.35388658, 0.36704137, 0.34492476, 0.36462465,\n",
       "        0.2856437 , 0.39554157, 0.34024334, 0.39777594, 0.32152592,\n",
       "        0.3701767 , 0.42481262, 0.29567443, 0.29890449, 0.35867483,\n",
       "        0.28778851, 0.33112304, 0.35205253, 0.3048149 , 0.29408554,\n",
       "        0.27008363, 0.34614039, 0.28343513, 0.31654432, 0.25175191,\n",
       "        0.31029938, 0.28222903, 0.29422994, 0.29272732, 0.36523486,\n",
       "        0.34947622, 0.33076979, 0.32164179, 0.35289011, 0.33851655,\n",
       "        0.37335757, 0.30133535, 0.36997104, 0.36106383, 0.34602418,\n",
       "        0.36523875, 0.31949249, 0.29131637, 0.25361328, 0.37641632,\n",
       "        0.31985472, 0.35797483, 0.26293425, 0.31573586, 0.3348671 ,\n",
       "        0.27656337, 0.34360745, 0.3212332 , 0.26943302, 0.31555606,\n",
       "        0.39733345, 0.37248307, 0.30808352, 0.34573973, 0.28938598,\n",
       "        0.34452546, 0.35511893, 0.3022388 , 0.31803852, 0.34729858,\n",
       "        0.37319922, 0.34285928, 0.34597318, 0.40349053, 0.35621836,\n",
       "        0.33252749, 0.32071706, 0.28873781, 0.34437171, 0.35972364,\n",
       "        0.37436223, 0.31002277, 0.3451869 , 0.35470191, 0.3058532 ,\n",
       "        0.30643215, 0.33079842, 0.3108562 , 0.37696415, 0.39631498,\n",
       "        0.29602368, 0.37330453, 0.374429  , 0.35110225, 0.3222725 ,\n",
       "        0.35599419, 0.35431062, 0.28254107, 0.38118234, 0.24919883,\n",
       "        0.40105373, 0.36332462, 0.33454049, 0.33678722, 0.33840308,\n",
       "        0.43633546, 0.29754849, 0.41476679, 0.30257461, 0.33146981,\n",
       "        0.32952099, 0.27291978, 0.27984164, 0.36477912, 0.34751661,\n",
       "        0.35752855, 0.33311285, 0.3779726 , 0.34437756, 0.33466903,\n",
       "        0.31989505, 0.34862862, 0.30393109, 0.28595366, 0.34372141,\n",
       "        0.35260974, 0.35893664, 0.41139462, 0.39908312, 0.30978922,\n",
       "        0.3151825 , 0.36864734, 0.31467559, 0.35031202, 0.2920779 ,\n",
       "        0.31389679, 0.3554898 , 0.31329031, 0.34663853, 0.39279021,\n",
       "        0.375251  , 0.30909329, 0.36658837, 0.34539928, 0.37315592,\n",
       "        0.28485526, 0.3506767 , 0.27638888, 0.32754733, 0.34278189,\n",
       "        0.37525339, 0.30787137, 0.29848239, 0.2881597 , 0.34119533,\n",
       "        0.34026667, 0.36981257, 0.35379104, 0.33325968, 0.33599792,\n",
       "        0.27478136, 0.36956433, 0.34567158, 0.2680556 , 0.31464814,\n",
       "        0.28515019, 0.33986758, 0.2524797 , 0.34416654, 0.39118275,\n",
       "        0.33061268, 0.3466103 , 0.35733195, 0.29808137, 0.33425068,\n",
       "        0.34407183, 0.35808706, 0.36777488, 0.35300285, 0.32572412,\n",
       "        0.31005761, 0.33583698, 0.32516008, 0.34846808, 0.35039544,\n",
       "        0.38535097, 0.3202646 , 0.32943126, 0.30321769, 0.33156668,\n",
       "        0.3821593 , 0.36121907, 0.35770708, 0.3242603 , 0.31449176,\n",
       "        0.32239757, 0.40645117, 0.38052479, 0.39919013, 0.39587856,\n",
       "        0.38800259, 0.29979739, 0.29088856, 0.38704011, 0.3452282 ,\n",
       "        0.38945526, 0.28825993, 0.34229311, 0.3298818 , 0.34330229,\n",
       "        0.35182206, 0.39030658, 0.34829757, 0.3293842 , 0.2845721 ,\n",
       "        0.30589641, 0.40825285, 0.29879737, 0.28189221, 0.38787323,\n",
       "        0.35874685, 0.38317371, 0.29564258, 0.27013267, 0.29474875,\n",
       "        0.3263827 , 0.35154886, 0.31024844, 0.34978431, 0.37465355,\n",
       "        0.28868135, 0.3589397 , 0.31643507, 0.31707467, 0.28708179,\n",
       "        0.32142884, 0.29184319, 0.33530988, 0.33055053, 0.31467648,\n",
       "        0.34969964, 0.3496705 , 0.34816328, 0.34091248, 0.37259646,\n",
       "        0.32626153, 0.27502295, 0.34524027, 0.34015999, 0.36072428,\n",
       "        0.35115941, 0.33170227, 0.30339397, 0.35666635, 0.34034901,\n",
       "        0.33512838, 0.40132395, 0.33465785, 0.27902372, 0.38460767,\n",
       "        0.31392825, 0.38805285, 0.36166947, 0.31072805, 0.32772891,\n",
       "        0.40528132, 0.35565824, 0.27330648, 0.3600668 , 0.34207085,\n",
       "        0.32359225, 0.34435212, 0.35734267, 0.31698789, 0.24694976,\n",
       "        0.3851451 , 0.30451913, 0.35706702, 0.38889802, 0.31598477,\n",
       "        0.33441215, 0.29142595, 0.34293442, 0.39682139, 0.34272196,\n",
       "        0.3293933 , 0.38150176, 0.32095501, 0.26639199, 0.30761842,\n",
       "        0.35467237, 0.3636967 , 0.37272068, 0.35066113, 0.28571193,\n",
       "        0.33155449, 0.35859363, 0.34688967, 0.30762153, 0.33450474]),\n",
       " array([0.27213626, 0.2418912 , 0.25239687, 0.25798781, 0.23972329,\n",
       "        0.24738298, 0.26618264, 0.25957095, 0.24352952, 0.30414176,\n",
       "        0.24858968, 0.24635756, 0.22714672, 0.2608337 , 0.25152397,\n",
       "        0.27455164, 0.23952274, 0.23500357, 0.24612705, 0.2731936 ,\n",
       "        0.25300529, 0.2344668 , 0.24655421, 0.2306407 , 0.24436101,\n",
       "        0.23489573, 0.26496567, 0.22956151, 0.28687556, 0.24387703,\n",
       "        0.23571946, 0.30596201, 0.24200479, 0.24699003, 0.24342817,\n",
       "        0.24551382, 0.28472686, 0.22635953, 0.23308021, 0.24381512,\n",
       "        0.2513746 , 0.22901986, 0.25706825, 0.23376815, 0.25485945,\n",
       "        0.2672147 , 0.25765072, 0.30099386, 0.22449154, 0.23725429,\n",
       "        0.24914186, 0.25321978, 0.24256208, 0.29381305, 0.23011238,\n",
       "        0.23094435, 0.26057124, 0.25967502, 0.24490516, 0.25374496,\n",
       "        0.25252577, 0.2542291 , 0.27302681, 0.23740894, 0.26191176,\n",
       "        0.25504001, 0.24433888, 0.24361051, 0.24331036, 0.23709002,\n",
       "        0.24483442, 0.27007787, 0.29786842, 0.24181446, 0.23173979,\n",
       "        0.23601504, 0.22925224, 0.24536841, 0.25481373, 0.23255161,\n",
       "        0.26875861, 0.28902548, 0.23828634, 0.25609053, 0.23287751,\n",
       "        0.2297532 , 0.27866446, 0.23829614, 0.25056075, 0.25389327,\n",
       "        0.2483955 , 0.27450244, 0.24347809, 0.2454543 , 0.23089737,\n",
       "        0.23410451, 0.26831826, 0.24856379, 0.23541077, 0.22876774,\n",
       "        0.22701404, 0.23669544, 0.23598889, 0.28664155, 0.2294748 ,\n",
       "        0.2428215 , 0.26275998, 0.25478681, 0.24510981, 0.23708045,\n",
       "        0.25585226, 0.25142711, 0.25135857, 0.26271199, 0.22423729,\n",
       "        0.27741748, 0.24302699, 0.27152959, 0.23631093, 0.26743283,\n",
       "        0.23803829, 0.23720292, 0.30737304, 0.23566751, 0.24231658,\n",
       "        0.24779291, 0.28189441, 0.23495491, 0.24734872, 0.23031464,\n",
       "        0.25643564, 0.23715322, 0.23612004, 0.2363518 , 0.23862677,\n",
       "        0.2589321 , 0.31168217, 0.24756962, 0.28519467, 0.23799389,\n",
       "        0.25566541, 0.25752336, 0.25999633, 0.26523785, 0.25562783,\n",
       "        0.24617333, 0.26659409, 0.24182303, 0.26194923, 0.23289504,\n",
       "        0.25802996, 0.25877545, 0.25926764, 0.26367376, 0.25258491,\n",
       "        0.26058722, 0.24051387, 0.22484897, 0.24562619, 0.26283363,\n",
       "        0.23824175, 0.23198129, 0.23168224, 0.26681055, 0.28833902,\n",
       "        0.23471823, 0.26674506, 0.24518377, 0.25712489, 0.28267691,\n",
       "        0.26479844, 0.23412984, 0.23244396, 0.22469359, 0.23068537,\n",
       "        0.24010221, 0.2420579 , 0.24302157, 0.23917055, 0.26732892,\n",
       "        0.2473323 , 0.23911863, 0.24441386, 0.25488523, 0.23248851,\n",
       "        0.26964112, 0.23325023, 0.24061968, 0.25563493, 0.2377317 ,\n",
       "        0.30165384, 0.22616343, 0.23401773, 0.23093563, 0.23188162,\n",
       "        0.23982651, 0.23988981, 0.23794983, 0.22292998, 0.26322727,\n",
       "        0.24622623, 0.23960737, 0.25645898, 0.26289443, 0.26740383,\n",
       "        0.26709051, 0.26441206, 0.24033015, 0.23123879, 0.2521439 ,\n",
       "        0.25871263, 0.22388757, 0.24587862, 0.23429202, 0.23785684,\n",
       "        0.24736622, 0.25241557, 0.22479457, 0.23371512, 0.2342385 ,\n",
       "        0.22464326, 0.25180342, 0.25136952, 0.25152784, 0.24505334,\n",
       "        0.29255447, 0.2684889 , 0.2605971 , 0.26334753, 0.3073618 ,\n",
       "        0.23860906, 0.27320724, 0.22639911, 0.238274  , 0.25661437,\n",
       "        0.2509225 , 0.28452145, 0.24932783, 0.24179104, 0.25563514,\n",
       "        0.24446256, 0.24497571, 0.2561703 , 0.24392173, 0.26825704,\n",
       "        0.24160144, 0.27711873, 0.26084602, 0.28650966, 0.22771977,\n",
       "        0.24114779, 0.23258593, 0.24424652, 0.26476965, 0.23465535,\n",
       "        0.25738989, 0.25104647, 0.22709106, 0.23556703, 0.23678217,\n",
       "        0.25563294, 0.24524853, 0.25748805, 0.25735104, 0.24297041,\n",
       "        0.27006731, 0.24598114, 0.24810503, 0.30062253, 0.24839156,\n",
       "        0.26381836, 0.22594166, 0.22620794, 0.22814686, 0.23351123,\n",
       "        0.24085533, 0.22745579, 0.24263568, 0.25761943, 0.2627472 ,\n",
       "        0.23287954, 0.2481987 , 0.26684016, 0.25736002, 0.23011902,\n",
       "        0.23528705, 0.23303928, 0.23747912, 0.22997803, 0.2358765 ,\n",
       "        0.23149919, 0.24542777, 0.25180752, 0.27384103, 0.27077937,\n",
       "        0.253633  , 0.2556142 , 0.24701095, 0.28468889, 0.24421316,\n",
       "        0.24072574, 0.23484999, 0.24278999, 0.24623134, 0.26003801,\n",
       "        0.24163524, 0.26035294, 0.24234654, 0.24606601, 0.25710246,\n",
       "        0.25537457, 0.2765445 , 0.23485369, 0.23127686, 0.23446683,\n",
       "        0.24137922, 0.2723244 , 0.27569154, 0.24909893, 0.22797499,\n",
       "        0.2291098 , 0.2643995 , 0.27342831, 0.2484526 , 0.25114404,\n",
       "        0.22942082, 0.22552143, 0.2714703 , 0.23631894, 0.24151306,\n",
       "        0.25851943, 0.2288916 , 0.2497994 , 0.2955063 , 0.25384584,\n",
       "        0.25349902, 0.25860407, 0.25166345, 0.26130861, 0.24544386,\n",
       "        0.26036046, 0.24411941, 0.28842671, 0.24036197, 0.23521314,\n",
       "        0.25684649, 0.24459628, 0.24714148, 0.25010905, 0.22585288,\n",
       "        0.23534958, 0.2383899 , 0.2461499 , 0.24915675, 0.25192813,\n",
       "        0.26734974, 0.23491066, 0.22370579, 0.2596336 , 0.29321496,\n",
       "        0.22544889, 0.24571637, 0.23909418, 0.23327353, 0.25591066,\n",
       "        0.23354737, 0.24059334, 0.26660885, 0.29346127, 0.22446802,\n",
       "        0.2484025 , 0.24596973, 0.23861055, 0.23462736, 0.22355969,\n",
       "        0.26565963, 0.2418183 , 0.25749962, 0.2321401 , 0.24224666,\n",
       "        0.23883496, 0.26550857, 0.24123108, 0.30336731, 0.25769248,\n",
       "        0.22428315, 0.24419164, 0.24729271, 0.25156009, 0.24224299,\n",
       "        0.23977122, 0.33513204, 0.25414953, 0.23190608, 0.2863462 ,\n",
       "        0.25914602, 0.24772288, 0.24608279, 0.25255942, 0.25195471,\n",
       "        0.23058917, 0.24029653, 0.27811046, 0.24296497, 0.25519527,\n",
       "        0.24435594, 0.2565469 , 0.23032694, 0.26011977, 0.26804772,\n",
       "        0.26461469, 0.24954857, 0.24092613, 0.27606517, 0.23104275,\n",
       "        0.24926724, 0.2923038 , 0.27994571, 0.22562185, 0.22547624,\n",
       "        0.2635261 , 0.22387162, 0.25582981, 0.24584733, 0.25186527,\n",
       "        0.2609672 , 0.25553474, 0.24563479, 0.25084342, 0.2544924 ,\n",
       "        0.23731059, 0.2868148 , 0.23256226, 0.23144271, 0.25536317,\n",
       "        0.26989252, 0.23689684, 0.26428111, 0.23314267, 0.24000361,\n",
       "        0.23925167, 0.29013   , 0.24203895, 0.27585392, 0.24054475,\n",
       "        0.23656499, 0.25451624, 0.2337107 , 0.23560617, 0.27508977,\n",
       "        0.22657275, 0.26120101, 0.28546861, 0.24542557, 0.2522163 ,\n",
       "        0.24716176, 0.27432163, 0.24610956, 0.24403333, 0.24900685,\n",
       "        0.26302454, 0.26019166, 0.24514636, 0.25365702, 0.28928106,\n",
       "        0.25320502, 0.27556517, 0.22717672, 0.24008417, 0.29386722,\n",
       "        0.24485297, 0.2556093 , 0.24926598, 0.23638555, 0.24217479,\n",
       "        0.26855821, 0.23306605, 0.22492785, 0.28045096, 0.22685955,\n",
       "        0.24428801, 0.23168847, 0.26604741, 0.27972359, 0.25291578,\n",
       "        0.23367142, 0.23533297, 0.22960651, 0.24088779, 0.27014923,\n",
       "        0.26540341, 0.23089432, 0.22500062, 0.23852825, 0.26254674,\n",
       "        0.25862968, 0.2695672 , 0.27063034, 0.23785258, 0.26261766,\n",
       "        0.26438113, 0.24375872, 0.2765962 , 0.24075004, 0.24189482,\n",
       "        0.22435305, 0.23318499, 0.24948091, 0.25212667, 0.22623043,\n",
       "        0.24888062, 0.24966364, 0.24817008, 0.25662802, 0.25500604,\n",
       "        0.25529848, 0.27186373, 0.23333657, 0.23587221, 0.24300624,\n",
       "        0.25619929, 0.30311943, 0.24538003, 0.22946801, 0.24015992,\n",
       "        0.24461586, 0.24163138, 0.2301118 , 0.22494167, 0.26898702,\n",
       "        0.2353234 , 0.23326617, 0.23179097, 0.25364927, 0.26234831,\n",
       "        0.22838367, 0.26189728, 0.25668959, 0.24282246, 0.25111082,\n",
       "        0.27876972, 0.24944524, 0.28467559, 0.24105811, 0.25815849,\n",
       "        0.26559522, 0.24837829, 0.25473886, 0.26994677, 0.22595192,\n",
       "        0.23275884, 0.25256252, 0.24452237, 0.26201815, 0.23159458,\n",
       "        0.22817488, 0.23912917, 0.2381374 , 0.24847997, 0.23290911,\n",
       "        0.25913231, 0.26518966, 0.26757748, 0.26671836, 0.23995262,\n",
       "        0.24734689, 0.24977736, 0.25764291, 0.2684602 , 0.27240902,\n",
       "        0.23091632, 0.23824521, 0.22531495, 0.24117832, 0.22260805,\n",
       "        0.22504839, 0.26875531, 0.26255446, 0.24181588, 0.24562313,\n",
       "        0.29099483, 0.25260834, 0.2638717 , 0.24964171, 0.24888942,\n",
       "        0.27312503, 0.25736559, 0.23822713, 0.23371231, 0.24944229,\n",
       "        0.24969111, 0.28211309, 0.26573348, 0.25017648, 0.26993698,\n",
       "        0.29032452, 0.24857846, 0.25510021, 0.25076431, 0.23953326,\n",
       "        0.22927283, 0.23617491, 0.25747772, 0.27147953, 0.22572852,\n",
       "        0.23411321, 0.23469636, 0.2317048 , 0.24916005, 0.23287824,\n",
       "        0.29928574, 0.25870874, 0.2349063 , 0.28215801, 0.24280456,\n",
       "        0.26934077, 0.26832535, 0.25079978, 0.27889669, 0.28697702,\n",
       "        0.25200172, 0.28562446, 0.23032198, 0.26379455, 0.25974143,\n",
       "        0.24576702, 0.24983063, 0.24162712, 0.27864839, 0.24169482,\n",
       "        0.26659901, 0.26210068, 0.24799694, 0.23266225, 0.24172729,\n",
       "        0.23080026, 0.24908867, 0.26369018, 0.30880522, 0.27184163,\n",
       "        0.30731215, 0.23566411, 0.23572782, 0.24519818, 0.25685447,\n",
       "        0.25271156, 0.23786746, 0.24537294, 0.23959467, 0.25225854,\n",
       "        0.25591248, 0.23962423, 0.2388668 , 0.24070898, 0.27168531,\n",
       "        0.25788677, 0.23885752, 0.24295491, 0.23475207, 0.25578142,\n",
       "        0.23390953, 0.23517633, 0.26632271, 0.25407746, 0.24459733,\n",
       "        0.27618779, 0.29919746, 0.25345867, 0.24574911, 0.29032397,\n",
       "        0.23852595, 0.22317576, 0.23375993, 0.24599689, 0.24007861,\n",
       "        0.24367424, 0.25032753, 0.27957029, 0.26079045, 0.26192046,\n",
       "        0.27436195, 0.25866204, 0.25011603, 0.2668756 , 0.23189955,\n",
       "        0.2409957 , 0.23801742, 0.24818943, 0.23937558, 0.25997608,\n",
       "        0.23982517, 0.2375729 , 0.250398  , 0.25671622, 0.24347399,\n",
       "        0.2404061 , 0.30665184, 0.23759767, 0.23393758, 0.22516453,\n",
       "        0.24770525, 0.24699928, 0.27084168, 0.2917241 , 0.23563343,\n",
       "        0.24844214, 0.26080459, 0.27007719, 0.26532304, 0.26543019,\n",
       "        0.22660308, 0.28115057, 0.25750482, 0.29134285, 0.24247169,\n",
       "        0.2655064 , 0.32368234, 0.23971784, 0.23894129, 0.27720843,\n",
       "        0.23387208, 0.23869667, 0.24980818, 0.22910339, 0.23534375,\n",
       "        0.22403423, 0.26845246, 0.23239412, 0.23623367, 0.23663305,\n",
       "        0.23563909, 0.23887605, 0.24006432, 0.28011718, 0.25742252,\n",
       "        0.25401031, 0.24375663, 0.23684666, 0.25059213, 0.25998867,\n",
       "        0.27300466, 0.2368096 , 0.26607546, 0.2612267 , 0.25774419,\n",
       "        0.26260429, 0.23693282, 0.2427344 , 0.23754169, 0.26444637,\n",
       "        0.25134791, 0.25873305, 0.22947187, 0.24020568, 0.25104904,\n",
       "        0.23307063, 0.24807558, 0.24137381, 0.22303618, 0.25571173,\n",
       "        0.29352233, 0.26291276, 0.22977806, 0.25213814, 0.22995768,\n",
       "        0.24575738, 0.2542133 , 0.24117672, 0.24263607, 0.2697149 ,\n",
       "        0.26487752, 0.24971885, 0.24988991, 0.28969231, 0.26844391,\n",
       "        0.25241261, 0.25004634, 0.22627942, 0.26002527, 0.25906409,\n",
       "        0.26824207, 0.23430411, 0.24528479, 0.25639195, 0.23315104,\n",
       "        0.23575929, 0.25182268, 0.2346588 , 0.27256653, 0.28846322,\n",
       "        0.23108578, 0.26555275, 0.26321402, 0.25094776, 0.23808259,\n",
       "        0.25491467, 0.25492163, 0.23426775, 0.28476746, 0.24829873,\n",
       "        0.28461003, 0.25674752, 0.25695127, 0.25188353, 0.25408838,\n",
       "        0.3196104 , 0.23775045, 0.30075817, 0.22831987, 0.23766961,\n",
       "        0.23775566, 0.2555368 , 0.2232887 , 0.26167308, 0.25795722,\n",
       "        0.25220583, 0.24528257, 0.27251097, 0.25178399, 0.24035977,\n",
       "        0.23316713, 0.24883136, 0.2340208 , 0.22616173, 0.25472922,\n",
       "        0.25525999, 0.25554427, 0.29415983, 0.29122321, 0.23613045,\n",
       "        0.27614221, 0.26576623, 0.24612206, 0.25012332, 0.22927132,\n",
       "        0.23361969, 0.26155229, 0.23808668, 0.24971571, 0.29391998,\n",
       "        0.28512772, 0.23052233, 0.26513346, 0.24583109, 0.2638006 ,\n",
       "        0.22737153, 0.26088549, 0.2278342 , 0.25531214, 0.25419049,\n",
       "        0.26522977, 0.27025909, 0.22811643, 0.22539326, 0.25624065,\n",
       "        0.24449297, 0.26642947, 0.26088481, 0.25522098, 0.24843815,\n",
       "        0.22513357, 0.27293601, 0.25557461, 0.22579324, 0.26282019,\n",
       "        0.2444339 , 0.24220623, 0.22273837, 0.24912925, 0.27617946,\n",
       "        0.24352576, 0.25203572, 0.25455769, 0.23181363, 0.24764178,\n",
       "        0.24711502, 0.2502919 , 0.26543938, 0.2530417 , 0.24182517,\n",
       "        0.23125362, 0.24688962, 0.24294099, 0.2541192 , 0.25294853,\n",
       "        0.27314655, 0.2501383 , 0.23985034, 0.23576897, 0.2412524 ,\n",
       "        0.27307053, 0.2573818 , 0.26948966, 0.23641376, 0.2356619 ,\n",
       "        0.23377147, 0.30694309, 0.26490392, 0.27881063, 0.28071675,\n",
       "        0.27265531, 0.22731306, 0.23055278, 0.27054642, 0.2508135 ,\n",
       "        0.26998275, 0.23209085, 0.24699332, 0.24211134, 0.24706891,\n",
       "        0.25916761, 0.27975908, 0.26203222, 0.25934705, 0.22699592,\n",
       "        0.23587102, 0.28893749, 0.23135099, 0.23435862, 0.27546896,\n",
       "        0.2660828 , 0.27256937, 0.23383302, 0.22521607, 0.2363215 ,\n",
       "        0.23862973, 0.2577338 , 0.23660684, 0.25392502, 0.26623134,\n",
       "        0.233051  , 0.26500458, 0.23694054, 0.23742774, 0.22698807,\n",
       "        0.23858346, 0.23667818, 0.24119994, 0.23826344, 0.24408097,\n",
       "        0.24618978, 0.24730428, 0.24938411, 0.25374459, 0.26375663,\n",
       "        0.23593839, 0.23677918, 0.24949715, 0.26028527, 0.2602356 ,\n",
       "        0.25762994, 0.2522857 , 0.23244688, 0.25803888, 0.24483823,\n",
       "        0.25297718, 0.30223271, 0.26409646, 0.22498714, 0.2745147 ,\n",
       "        0.24123216, 0.27401168, 0.25250492, 0.23178125, 0.24592416,\n",
       "        0.28884825, 0.2540762 , 0.25728534, 0.25151671, 0.26045106,\n",
       "        0.239451  , 0.2546986 , 0.25886617, 0.24822177, 0.23257131,\n",
       "        0.28571453, 0.23437622, 0.25475176, 0.28182902, 0.2492795 ,\n",
       "        0.24572841, 0.2461167 , 0.24616364, 0.27855693, 0.24468343,\n",
       "        0.25441304, 0.2656585 , 0.24896495, 0.23241828, 0.24193572,\n",
       "        0.26389856, 0.27644247, 0.27357973, 0.25466635, 0.23289073,\n",
       "        0.25120257, 0.26000406, 0.24850882, 0.24713925, 0.2555492 ]))"
      ]
     },
     "execution_count": 85,
     "metadata": {},
     "output_type": "execute_result"
    }
   ],
   "source": [
    "# creating empty arrays\n",
    "pfolio_returns = []\n",
    "pfolio_volatilities = []\n",
    "\n",
    "# Creating loop for appending  portfolio returns and volatilities in arrays\n",
    "for x in range (1000):\n",
    "    weights = np.random.random(num_assets)\n",
    "    weights /= np.sum(weights)\n",
    "    pfolio_returns.append(np.sum(weights * simple_returns.mean()) * 250)\n",
    "    pfolio_volatilities.append(np.sqrt(np.dot(weights.T,np.dot(simple_returns.cov() * 250, weights))))\n",
    "   \n",
    "pfolio_returns = np.array(pfolio_returns)\n",
    "pfolio_volatilities = np.array(pfolio_volatilities)"
   ]
  },
  {
   "cell_type": "code",
   "execution_count": 18,
   "metadata": {},
   "outputs": [],
   "source": [
    "# Converting portfolio returns and portfolio volatilities arrays to a DataFrame\n",
    "portfolios = pd.DataFrame({'Return':pfolio_returns, 'Volatility':pfolio_volatilities})"
   ]
  },
  {
   "cell_type": "code",
   "execution_count": 19,
   "metadata": {},
   "outputs": [
    {
     "data": {
      "text/html": [
       "<div>\n",
       "<style scoped>\n",
       "    .dataframe tbody tr th:only-of-type {\n",
       "        vertical-align: middle;\n",
       "    }\n",
       "\n",
       "    .dataframe tbody tr th {\n",
       "        vertical-align: top;\n",
       "    }\n",
       "\n",
       "    .dataframe thead th {\n",
       "        text-align: right;\n",
       "    }\n",
       "</style>\n",
       "<table border=\"1\" class=\"dataframe\">\n",
       "  <thead>\n",
       "    <tr style=\"text-align: right;\">\n",
       "      <th></th>\n",
       "      <th>Return</th>\n",
       "      <th>Volatility</th>\n",
       "    </tr>\n",
       "  </thead>\n",
       "  <tbody>\n",
       "    <tr>\n",
       "      <th>995</th>\n",
       "      <td>0.099143</td>\n",
       "      <td>0.189090</td>\n",
       "    </tr>\n",
       "    <tr>\n",
       "      <th>996</th>\n",
       "      <td>0.113558</td>\n",
       "      <td>0.228678</td>\n",
       "    </tr>\n",
       "    <tr>\n",
       "      <th>997</th>\n",
       "      <td>0.091091</td>\n",
       "      <td>0.179001</td>\n",
       "    </tr>\n",
       "    <tr>\n",
       "      <th>998</th>\n",
       "      <td>0.086917</td>\n",
       "      <td>0.177972</td>\n",
       "    </tr>\n",
       "    <tr>\n",
       "      <th>999</th>\n",
       "      <td>0.074969</td>\n",
       "      <td>0.191062</td>\n",
       "    </tr>\n",
       "  </tbody>\n",
       "</table>\n",
       "</div>"
      ],
      "text/plain": [
       "       Return  Volatility\n",
       "995  0.099143    0.189090\n",
       "996  0.113558    0.228678\n",
       "997  0.091091    0.179001\n",
       "998  0.086917    0.177972\n",
       "999  0.074969    0.191062"
      ]
     },
     "execution_count": 19,
     "metadata": {},
     "output_type": "execute_result"
    }
   ],
   "source": [
    "portfolios.tail()"
   ]
  },
  {
   "cell_type": "markdown",
   "metadata": {},
   "source": [
    "### Efficient Frontier\n",
    "The efficient frontier is the set of optimal portfolios that offer the highest expected return for a defined level of risk or the lowest risk for a given level of expected return. Portfolios that lie below the efficient frontier are sub-optimal because they do not provide enough return for the level of risk (Ganti, 2003)."
   ]
  },
  {
   "cell_type": "code",
   "execution_count": 68,
   "metadata": {
    "scrolled": true
   },
   "outputs": [
    {
     "data": {
      "image/png": "[encoded data removed]",
      "text/plain": [
       "<Figure size 720x432 with 1 Axes>"
      ]
     },
     "metadata": {
      "needs_background": "light"
     },
     "output_type": "display_data"
    }
   ],
   "source": [
    "# Ploting Efficient Frontier of FAANG portfolio\n",
    "portfolios.plot(x='Volatility', y='Return', kind='scatter', figsize=(10, 6));\n",
    "plt.xlabel('Expected Volatility')\n",
    "plt.ylabel('Expected Return')\n",
    "plt.title('Efficient Frontier of FAANG Portfolio')\n",
    "plt.show()"
   ]
  },
  {
   "cell_type": "markdown",
   "metadata": {},
   "source": [
    "### Sharpe Ratio\n",
    "The Sharpe ratio was developed by Nobel laureate William F. Sharpe and is used to help investors understand the return of an investment compared to its risk. The ratio is the average return earned in excess of the risk-free rate per unit of volatility or total risk (Hargrave, 2003).\n",
    "\n",
    "$$ Sharpe Ratio = \\frac{r_p - r_f}{ \\sigma_p}$$"
   ]
  },
  {
   "cell_type": "code",
   "execution_count": 74,
   "metadata": {},
   "outputs": [
    {
     "data": {
      "text/plain": [
       "1.2918751657718002"
      ]
     },
     "execution_count": 74,
     "metadata": {},
     "output_type": "execute_result"
    }
   ],
   "source": [
    "# Calculation Sharpe Ratio\n",
    "# Considering risk free rate (10 Year Treasury Rate of June 4, 2020) is 0.82%. \n",
    "# For more info, refer to 'https://ycharts.com/indicators/10_year_treasury_rate'\n",
    "risk_free_rate = 0.0082\n",
    "sharpe_ratio = (annual_pfolio_retrun - risk_free_rate)/annual_pfolio_volatility\n",
    "sharpe_ratio"
   ]
  },
  {
   "cell_type": "markdown",
   "metadata": {},
   "source": [
    "References\n",
    "10 year treasury rate. (n.d.). Retrieved from https://ycharts.com/indicators/10_year_treasury_rate\n",
    "\n",
    "Cheng, J. (2003, November 24). Modern portfolio theory (MPT). Retrieved from https://www.investopedia.com/terms/m/modernportfoliotheory.asp\n",
    "\n",
    "Fernando, J. (2017, June 12). FAANG stock definition. Retrieved from https://www.investopedia.com/terms/f/faang-stocks.asp\n",
    "\n",
    "Ganti, A. (2003, November 18). Efficient frontier definition. Retrieved from https://www.investopedia.com/terms/e/efficientfrontier.asp\n",
    "\n",
    "Hargrave, M. (2003, November 26). How to use the Sharpe ratio to analyze portfolio risk and return. Retrieved from https://www.investopedia.com/terms/s/sharperatio.asp\n",
    "\n",
    "Nickolas, S. (2015, July 15). How can I measure portfolio variance? Retrieved from https://www.investopedia.com/ask/answers/071515/how-can-i-measure-portfolio-variance.asp\n",
    "\n",
    "Normalized price. (2015, April 22). Retrieved from https://www.linnsoft.com/techind/normalized-price"
   ]
  }
 ],
 "metadata": {
  "kernelspec": {
   "display_name": "Python 3",
   "language": "python",
   "name": "python3"
  },
  "language_info": {
   "codemirror_mode": {
    "name": "ipython",
    "version": 3
   },
   "file_extension": ".py",
   "mimetype": "text/x-python",
   "name": "python",
   "nbconvert_exporter": "python",
   "pygments_lexer": "ipython3",
   "version": "3.7.6"
  }
 },
 "nbformat": 4,
 "nbformat_minor": 4
}

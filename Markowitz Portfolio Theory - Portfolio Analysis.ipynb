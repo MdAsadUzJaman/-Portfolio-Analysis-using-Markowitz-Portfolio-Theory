{
 "cells": [
  {
   "cell_type": "code",
   "execution_count": 1,
   "metadata": {
    "scrolled": true
   },
   "outputs": [
    {
     "name": "stderr",
     "output_type": "stream",
     "text": [
      "C:\\Users\\asadu\\anaconda3\\lib\\site-packages\\pandas_datareader\\compat\\__init__.py:7: FutureWarning: pandas.util.testing is deprecated. Use the functions in the public API at pandas.testing instead.\n",
      "  from pandas.util.testing import assert_frame_equal\n"
     ]
    }
   ],
   "source": [
    "# Importing numpy, matplotlib, pandas,pandas_datareader\n",
    "import pandas as pd\n",
    "import numpy as np\n",
    "import pandas_datareader.data as web\n",
    "import matplotlib.pyplot as plt\n",
    "%matplotlib inline"
   ]
  },
  {
   "cell_type": "markdown",
   "metadata": {},
   "source": [
    "## Markowitz Portfolio Theory (MPT)\n",
    "Modern portfolio theory or Markowitz Portfolio Theory (MPT) is a theory that helps construct portfolios to optimize or maximize expected return based on a given level of market risk for risk averse investors, keeping that in mind that risk is inevitable part of return. Risk and return are positively correlated. However, the theory paves the way to construct an \"efficient frontier\" of optimal portfolios that generate the highest possible expected return for a given level of risk. This concept was introduced by Harry Markowitz in his paper \"Portfolio Selection,\" published in 1952 by the Journal of Finance He was later awarded a Nobel prize for developing the MPT.(Cheng, 2003)\n",
    "\n",
    "In finance world, “FAANG” refers to the stocks of five giant American technology companies: Facebook (FB), Amazon (AMZN), Apple (AAPL), Netflix (NFLX); and Alphabet (GOOG). In addition, the five FAANG stocks are among the largest companies in the world, with a combined market capitalization of over $4.1 trillion as of January 2020.(Fernando, 2017)\n",
    "\n",
    "We will implement Markowitz Portfolio Theory to construct  an efficient frontier of optimal portfolios."
   ]
  },
  {
   "cell_type": "code",
   "execution_count": 2,
   "metadata": {},
   "outputs": [
    {
     "ename": "NameError",
     "evalue": "name 'wb' is not defined",
     "output_type": "error",
     "traceback": [
      "\u001b[1;31m---------------------------------------------------------------------------\u001b[0m",
      "\u001b[1;31mNameError\u001b[0m                                 Traceback (most recent call last)",
      "\u001b[1;32m<ipython-input-2-b9f8ad06c52d>\u001b[0m in \u001b[0;36m<module>\u001b[1;34m\u001b[0m\n\u001b[0;32m      3\u001b[0m \u001b[0mpf_data\u001b[0m \u001b[1;33m=\u001b[0m\u001b[0mpd\u001b[0m\u001b[1;33m.\u001b[0m\u001b[0mDataFrame\u001b[0m\u001b[1;33m(\u001b[0m\u001b[1;33m)\u001b[0m\u001b[1;33m\u001b[0m\u001b[1;33m\u001b[0m\u001b[0m\n\u001b[0;32m      4\u001b[0m \u001b[1;32mfor\u001b[0m \u001b[0mt\u001b[0m \u001b[1;32min\u001b[0m \u001b[0massets\u001b[0m\u001b[1;33m:\u001b[0m\u001b[1;33m\u001b[0m\u001b[1;33m\u001b[0m\u001b[0m\n\u001b[1;32m----> 5\u001b[1;33m     \u001b[0mpf_data\u001b[0m\u001b[1;33m[\u001b[0m\u001b[0mt\u001b[0m\u001b[1;33m]\u001b[0m\u001b[1;33m=\u001b[0m\u001b[0mwb\u001b[0m\u001b[1;33m.\u001b[0m\u001b[0mDataReader\u001b[0m\u001b[1;33m(\u001b[0m\u001b[0mt\u001b[0m\u001b[1;33m,\u001b[0m \u001b[0mdata_source\u001b[0m\u001b[1;33m=\u001b[0m\u001b[1;34m\"yahoo\"\u001b[0m\u001b[1;33m,\u001b[0m \u001b[0mstart\u001b[0m\u001b[1;33m=\u001b[0m\u001b[1;34m\"2012-05-18\"\u001b[0m\u001b[1;33m)\u001b[0m\u001b[1;33m[\u001b[0m\u001b[1;34m\"Adj Close\"\u001b[0m\u001b[1;33m]\u001b[0m\u001b[1;33m\u001b[0m\u001b[1;33m\u001b[0m\u001b[0m\n\u001b[0m",
      "\u001b[1;31mNameError\u001b[0m: name 'wb' is not defined"
     ]
    }
   ],
   "source": [
    "# Using ticker symbols of FAANG to download and create DataFrame from 2012-05-18\n",
    "assets=['FB','AMZN','AAPL','NFLX','GOOG']\n",
    "pf_data =pd.DataFrame()\n",
    "for t in assets:\n",
    "    pf_data[t]=wb.DataReader(t, data_source=\"yahoo\", start=\"2012-05-18\")[\"Adj Close\"]"
   ]
  },
  {
   "cell_type": "code",
   "execution_count": null,
   "metadata": {},
   "outputs": [],
   "source": [
    "# Showing top 6 rows of data\n",
    "pf_data.head(6)"
   ]
  },
  {
   "cell_type": "code",
   "execution_count": null,
   "metadata": {},
   "outputs": [],
   "source": [
    "# Locating missing values\n",
    "pf_data.info()"
   ]
  },
  {
   "cell_type": "markdown",
   "metadata": {},
   "source": [
    "The normalized value for each stock after the base date/time is the percent of the base price expressed as a whole number. Here, 100 times actual price (any given date) divided by actual base price (initail date). We indiate initail date with iloc[0]. This indicator shows the percentage move in price relative to some fixed starting point (\"Normalized price\" 2015).\n",
    "\n",
    "To illustrate, if we want to calculate the normalized price of Facebook(\"FB\") for 5th day, we will devide 5th day (2012-05-18) price which is 33.029999 by base price (2012-05-24) of 38.230000 times 100."
   ]
  },
  {
   "cell_type": "code",
   "execution_count": null,
   "metadata": {
    "scrolled": false
   },
   "outputs": [],
   "source": [
    "# Normalizing stock prices\n",
    "normalized_price = pf_data/pf_data.iloc[0]*100\n",
    "normalized_price.plot(figsize=(13,5))"
   ]
  },
  {
   "cell_type": "markdown",
   "metadata": {},
   "source": [
    "### Simple Returns\n",
    "The simple return of a portfolio is the weighted sum of the simple returns of the constituents of the portfolio. If simple returns are used than the portfolio return is the weighted average of assets in that portfolio. So one of the advantages of simple return is that it can be used where portfolios are formed and portfolio returns have to be calculated because of its asset-additive property.\n",
    "\n",
    "$ Return = (Ending Price - Starting Price) / Starting Price$\n",
    "\n",
    "Please note that, we will use simple returns for calculating FAANG portfolio.\n",
    "\n",
    "### Log Returns\n",
    "The log return for a time period is the sum of the log returns of partitions of the time period. For example, the log return for a year is the sum of the log returns of the days within the year. Log returns are time-additive, not asset-additive. The weighted average of log returns of individual stocks is not equal to the portfolio return. In fact, log returns are not a linear function of asset weights.\n",
    "\n",
    "$ Return = log(Ending Price - Starting Price)$\n"
   ]
  },
  {
   "cell_type": "code",
   "execution_count": null,
   "metadata": {},
   "outputs": [],
   "source": [
    "# Calculating log returns just for the record\n",
    "log_returns=np.log(pf_data/pf_data.shift(1))\n",
    "log_returns.tail()"
   ]
  },
  {
   "cell_type": "code",
   "execution_count": null,
   "metadata": {},
   "outputs": [],
   "source": [
    "# Calculating simple returns of FAANG portfolio\n",
    "simple_returns = (pf_data / pf_data.shift(1)) - 1\n",
    "simple_returns.head()"
   ]
  },
  {
   "cell_type": "code",
   "execution_count": null,
   "metadata": {},
   "outputs": [],
   "source": [
    "# Calculating annual simple return from daily simple returns of FAANG portfolio\n",
    "annual_return = simple_returns.mean()*250\n",
    "annual_return"
   ]
  },
  {
   "cell_type": "code",
   "execution_count": null,
   "metadata": {},
   "outputs": [],
   "source": [
    "# Calculating annual covariance from daily simple returns of FAANG portfolio\n",
    "simple_returns.cov()*250"
   ]
  },
  {
   "cell_type": "code",
   "execution_count": null,
   "metadata": {},
   "outputs": [],
   "source": [
    "# Calculating correlation among stocks in FAANG portfolio\n",
    "simple_returns.corr()"
   ]
  },
  {
   "cell_type": "code",
   "execution_count": null,
   "metadata": {},
   "outputs": [],
   "source": [
    "num_assets = len(assets)\n",
    "num_assets"
   ]
  },
  {
   "cell_type": "code",
   "execution_count": null,
   "metadata": {},
   "outputs": [],
   "source": [
    "# Generationg random weights as per number of assets in FAANG Portfolio\n",
    "weights = np.random.random(num_assets)\n",
    "weights= weights / np.sum(weights)\n",
    "# or weights /= np.sum(weights)\n",
    "weights"
   ]
  },
  {
   "cell_type": "code",
   "execution_count": null,
   "metadata": {},
   "outputs": [],
   "source": [
    "# Adding random weights to check if equal to 1\n",
    "weights[0]+weights[1]+weights[2]+weights[3]+weights[4]"
   ]
  },
  {
   "cell_type": "markdown",
   "metadata": {},
   "source": [
    "### Expected Portfolio Return\n",
    "Expected portfolio return is the weighted average of the expected return of each of its stocks. The basic expected return formula involves multiplying each asset's weight in the portfolio by its expected return, then adding all those figures together.\n",
    "\n",
    "$ Expected  Portfolio  Return = \\sum_{i=1}^{n}w_i*r_i $"
   ]
  },
  {
   "cell_type": "code",
   "execution_count": null,
   "metadata": {},
   "outputs": [],
   "source": [
    "# Calcualting annual expected returns\n",
    "annual_pfolio_retrun = np.sum(weights*simple_returns.mean())*250\n",
    "annual_pfolio_retrun"
   ]
  },
  {
   "cell_type": "markdown",
   "metadata": {},
   "source": [
    "### Expected Portfolio Variance\n",
    "Portfolio variance is a measurement of risk, of how the aggregate actual returns of a set of securities making up a portfolio fluctuate over time. This portfolio variance statistic is calculated using the standard deviations of each security in the portfolio as well as the correlations of each security pair in the portfolio. Our target is to minimize expeted portfolio variance while maximizing portfolio returns.\n",
    "\n",
    "To calculate the portfolio variance of securities in a portfolio, multiply the squared weight of each security by the corresponding variance of the security and add two multiplied by the weighted average of the securities multiplied by the covariance between the securities (Nickolas, 2015). \n",
    "\n",
    "$ Expected Portfolio Variance = \\sum_{i=1}^{n}(w_i^2)Var(r_i) + 2\\sum_{i=1}^{n}\\sum_{j=1}^{n}(w_i)(w_j)Cov(r_i,r_j) $\n",
    "\n",
    "We will use following notation for matrix calculation, $ (w.V)^2 = w^TV.w$\n",
    "\n",
    "Something like,\n",
    "\n",
    "$ (w.V)^2 = [w_1 \\dots w_n]\n",
    "\\begin{bmatrix} \n",
    "\\sigma_{1}^2 & \\sigma_{1,2} \\dots \\sigma_{1,n}\\\\\n",
    "\\sigma_{2,1} & \\sigma_{2}^2 \\dots \\sigma_{2,n}\\\\\n",
    "\\vdots&\\vdots\\ddots\\\\\n",
    "\\sigma_{n,1} & \\sigma_{n,2} \\dots \\sigma_{n}^2\\\\\n",
    "\\end{bmatrix} \\begin{bmatrix} w_1 \\\\\\vdots\\\\ w_n\\end{bmatrix} $\n",
    "\n"
   ]
  },
  {
   "cell_type": "code",
   "execution_count": null,
   "metadata": {},
   "outputs": [],
   "source": [
    "# Calculating annual portfolio variance\n",
    "annual_pfolio_variance = np.dot(weights.T, np.dot(simple_returns.cov()*250,weights))\n",
    "annual_pfolio_variance"
   ]
  },
  {
   "cell_type": "code",
   "execution_count": null,
   "metadata": {},
   "outputs": [],
   "source": [
    "# Calculating annual portfolio standard deviation or volatility\n",
    "annual_pfolio_volatility = np.sqrt(np.dot(weights.T, np.dot(simple_returns.cov()*250,weights)))\n",
    "annual_pfolio_volatility"
   ]
  },
  {
   "cell_type": "code",
   "execution_count": null,
   "metadata": {},
   "outputs": [],
   "source": [
    "# creating empty arrays\n",
    "pfolio_returns = []\n",
    "pfolio_volatilities = []\n",
    "\n",
    "# Creating loop for appending  portfolio returns and volatilities in arrays\n",
    "for x in range (1000):\n",
    "    weights = np.random.random(num_assets)\n",
    "    weights /= np.sum(weights)\n",
    "    pfolio_returns.append(np.sum(weights * simple_returns.mean()) * 250)\n",
    "    pfolio_volatilities.append(np.sqrt(np.dot(weights.T,np.dot(simple_returns.cov() * 250, weights))))\n",
    "   \n",
    "pfolio_returns = np.array(pfolio_returns)\n",
    "pfolio_volatilities = np.array(pfolio_volatilities)"
   ]
  },
  {
   "cell_type": "code",
   "execution_count": null,
   "metadata": {},
   "outputs": [],
   "source": [
    "# Converting portfolio returns and portfolio volatilities arrays to a DataFrame\n",
    "portfolios = pd.DataFrame({'Return':pfolio_returns, 'Volatility':pfolio_volatilities})"
   ]
  },
  {
   "cell_type": "code",
   "execution_count": null,
   "metadata": {},
   "outputs": [],
   "source": [
    "portfolios.tail()"
   ]
  },
  {
   "cell_type": "markdown",
   "metadata": {},
   "source": [
    "### Efficient Frontier\n",
    "The efficient frontier is the set of optimal portfolios that offer the highest expected return for a defined level of risk or the lowest risk for a given level of expected return. Portfolios that lie below the efficient frontier are sub-optimal because they do not provide enough return for the level of risk (Ganti, 2003)."
   ]
  },
  {
   "cell_type": "code",
   "execution_count": null,
   "metadata": {
    "scrolled": true
   },
   "outputs": [],
   "source": [
    "# Ploting Efficient Frontier of FAANG portfolio\n",
    "portfolios.plot(x='Volatility', y='Return', kind='scatter', figsize=(10, 6));\n",
    "plt.xlabel('Expected Volatility')\n",
    "plt.ylabel('Expected Return')\n",
    "plt.title('Efficient Frontier of FAANG Portfolio')\n",
    "plt.show()"
   ]
  },
  {
   "cell_type": "markdown",
   "metadata": {},
   "source": [
    "### Sharpe Ratio\n",
    "The Sharpe ratio was developed by Nobel laureate William F. Sharpe and is used to help investors understand the return of an investment compared to its risk. The ratio is the average return earned in excess of the risk-free rate per unit of volatility or total risk (Hargrave, 2003).\n",
    "\n",
    "$$ Sharpe Ratio = \\frac{r_p - r_f}{ \\sigma_p}$$"
   ]
  },
  {
   "cell_type": "code",
   "execution_count": null,
   "metadata": {},
   "outputs": [],
   "source": [
    "# Calculation Sharpe Ratio\n",
    "# Considering risk free rate (10 Year Treasury Rate of June 4, 2020) is 0.82%. \n",
    "# For more info, refer to 'https://ycharts.com/indicators/10_year_treasury_rate'\n",
    "risk_free_rate = 0.0082\n",
    "sharpe_ratio = (annual_pfolio_retrun - risk_free_rate)/annual_pfolio_volatility\n",
    "sharpe_ratio"
   ]
  },
  {
   "cell_type": "markdown",
   "metadata": {},
   "source": [
    "References\n",
    "10 year treasury rate. (n.d.). Retrieved from https://ycharts.com/indicators/10_year_treasury_rate\n",
    "\n",
    "Cheng, J. (2003, November 24). Modern portfolio theory (MPT). Retrieved from https://www.investopedia.com/terms/m/modernportfoliotheory.asp\n",
    "\n",
    "Fernando, J. (2017, June 12). FAANG stock definition. Retrieved from https://www.investopedia.com/terms/f/faang-stocks.asp\n",
    "\n",
    "Ganti, A. (2003, November 18). Efficient frontier definition. Retrieved from https://www.investopedia.com/terms/e/efficientfrontier.asp\n",
    "\n",
    "Hargrave, M. (2003, November 26). How to use the Sharpe ratio to analyze portfolio risk and return. Retrieved from https://www.investopedia.com/terms/s/sharperatio.asp\n",
    "\n",
    "Nickolas, S. (2015, July 15). How can I measure portfolio variance? Retrieved from https://www.investopedia.com/ask/answers/071515/how-can-i-measure-portfolio-variance.asp\n",
    "\n",
    "Normalized price. (2015, April 22). Retrieved from https://www.linnsoft.com/techind/normalized-price"
   ]
  }
 ],
 "metadata": {
  "kernelspec": {
   "display_name": "Python 3",
   "language": "python",
   "name": "python3"
  },
  "language_info": {
   "codemirror_mode": {
    "name": "ipython",
    "version": 3
   },
   "file_extension": ".py",
   "mimetype": "text/x-python",
   "name": "python",
   "nbconvert_exporter": "python",
   "pygments_lexer": "ipython3",
   "version": "3.7.6"
  }
 },
 "nbformat": 4,
 "nbformat_minor": 4
}
